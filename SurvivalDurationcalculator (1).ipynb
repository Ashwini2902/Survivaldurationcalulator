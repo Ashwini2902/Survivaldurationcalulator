{
 "cells": [
  {
   "cell_type": "code",
   "execution_count": 9,
   "id": "e4faffb0-0299-43c3-94fe-deff7333a147",
   "metadata": {},
   "outputs": [
    {
     "name": "stdin",
     "output_type": "stream",
     "text": [
      "What's your age?  10\n",
      "Please choose time unit: Months, Weeks, Days, Hours, Minutes, Seconds. Note: You can write the first letter or the full name of the time unit.  days\n"
     ]
    },
    {
     "name": "stdout",
     "output_type": "stream",
     "text": [
      "You lived for 3650 days\n"
     ]
    }
   ],
   "source": [
    "class SurvivalDurationCalculator:\n",
    "    def __init__(self, age):\n",
    "        self.age = age\n",
    "\n",
    "    def calculate_duration(self, unit):\n",
    "        if unit.lower() == 'months':\n",
    "            return self.age * 12\n",
    "\n",
    "        elif unit.lower() == 'weeks':\n",
    "            return self.age * 52\n",
    "        elif unit.lower() == 'days':\n",
    "            return self.age * 365\n",
    "        elif unit.lower() == 'hours':\n",
    "            return self.age * 365 * 24\n",
    "        elif unit.lower() == 'minutes':\n",
    "            return self.age * 365 * 24 * 60\n",
    "        elif unit.lower() == 'seconds':\n",
    "            return self.age * 365 * 24 * 60 * 60\n",
    "        else:\n",
    "            return \"Invalid time unit. Please choose from Months, Weeks, Days, Hours, Minutes, or Seconds.\"\n",
    "\n",
    "# Get user input\n",
    "age = int(input(\"What's your age? \"))\n",
    "unit = input(\"Please choose time unit: Months, Weeks, Days, Hours, Minutes, Seconds. Note: You can write the first letter or the full name of the time unit. \")\n",
    "\n",
    "# Initialize the class and calculate the duration\n",
    "calculator = SurvivalDurationCalculator(age)\n",
    "duration = calculator.calculate_duration(unit)\n",
    "\n",
    "# Display the result\n",
    "print(\"You lived for\", duration, unit)"
   ]
  },
  {
   "cell_type": "code",
   "execution_count": null,
   "id": "bced4c29-dae3-4537-8ec2-bdfdb16388b0",
   "metadata": {},
   "outputs": [],
   "source": []
  },
  {
   "cell_type": "code",
   "execution_count": null,
   "id": "fef9e469-b3d7-4017-9068-7ec7ed1d6eee",
   "metadata": {},
   "outputs": [],
   "source": []
  },
  {
   "cell_type": "code",
   "execution_count": null,
   "id": "74aa67d7-dc56-40b9-bede-3776973ae3bd",
   "metadata": {},
   "outputs": [],
   "source": []
  },
  {
   "cell_type": "code",
   "execution_count": null,
   "id": "a73ca783-826e-4ae2-9eca-35db2b4ef8c0",
   "metadata": {},
   "outputs": [],
   "source": []
  }
 ],
 "metadata": {
  "kernelspec": {
   "display_name": "Python 3 (ipykernel)",
   "language": "python",
   "name": "python3"
  },
  "language_info": {
   "codemirror_mode": {
    "name": "ipython",
    "version": 3
   },
   "file_extension": ".py",
   "mimetype": "text/x-python",
   "name": "python",
   "nbconvert_exporter": "python",
   "pygments_lexer": "ipython3",
   "version": "3.11.7"
  }
 },
 "nbformat": 4,
 "nbformat_minor": 5
}
